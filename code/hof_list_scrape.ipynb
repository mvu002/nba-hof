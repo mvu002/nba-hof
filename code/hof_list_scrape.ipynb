{
 "cells": [
  {
   "cell_type": "markdown",
   "id": "ecf88a18",
   "metadata": {},
   "source": [
    "## Goal: Get clean list of NBA Hall of Famers"
   ]
  },
  {
   "cell_type": "markdown",
   "id": "f82141bb",
   "metadata": {},
   "source": [
    "#### Libraries"
   ]
  },
  {
   "cell_type": "code",
   "execution_count": 1,
   "id": "2b884532",
   "metadata": {},
   "outputs": [],
   "source": [
    "import pandas as pd"
   ]
  },
  {
   "cell_type": "markdown",
   "id": "13bbb78a",
   "metadata": {},
   "source": [
    "#### Import table from basketball-reference.com"
   ]
  },
  {
   "cell_type": "code",
   "execution_count": 2,
   "id": "2fc4ab34",
   "metadata": {},
   "outputs": [
    {
     "data": {
      "text/html": [
       "<div>\n",
       "<style scoped>\n",
       "    .dataframe tbody tr th:only-of-type {\n",
       "        vertical-align: middle;\n",
       "    }\n",
       "\n",
       "    .dataframe tbody tr th {\n",
       "        vertical-align: top;\n",
       "    }\n",
       "\n",
       "    .dataframe thead th {\n",
       "        text-align: right;\n",
       "    }\n",
       "</style>\n",
       "<table border=\"1\" class=\"dataframe\">\n",
       "  <thead>\n",
       "    <tr style=\"text-align: right;\">\n",
       "      <th></th>\n",
       "      <th>Rank</th>\n",
       "      <th>Player</th>\n",
       "      <th>HoF Prob</th>\n",
       "    </tr>\n",
       "  </thead>\n",
       "  <tbody>\n",
       "    <tr>\n",
       "      <th>0</th>\n",
       "      <td>1</td>\n",
       "      <td>Kareem Abdul-Jabbar*</td>\n",
       "      <td>1.0000</td>\n",
       "    </tr>\n",
       "    <tr>\n",
       "      <th>1</th>\n",
       "      <td>2</td>\n",
       "      <td>LeBron James</td>\n",
       "      <td>1.0000</td>\n",
       "    </tr>\n",
       "    <tr>\n",
       "      <th>2</th>\n",
       "      <td>3</td>\n",
       "      <td>Michael Jordan*</td>\n",
       "      <td>1.0000</td>\n",
       "    </tr>\n",
       "    <tr>\n",
       "      <th>3</th>\n",
       "      <td>4</td>\n",
       "      <td>Bill Russell*</td>\n",
       "      <td>1.0000</td>\n",
       "    </tr>\n",
       "    <tr>\n",
       "      <th>4</th>\n",
       "      <td>5</td>\n",
       "      <td>Kobe Bryant*</td>\n",
       "      <td>1.0000</td>\n",
       "    </tr>\n",
       "    <tr>\n",
       "      <th>...</th>\n",
       "      <td>...</td>\n",
       "      <td>...</td>\n",
       "      <td>...</td>\n",
       "    </tr>\n",
       "    <tr>\n",
       "      <th>245</th>\n",
       "      <td>246</td>\n",
       "      <td>DeAndre Jordan</td>\n",
       "      <td>0.0171</td>\n",
       "    </tr>\n",
       "    <tr>\n",
       "      <th>246</th>\n",
       "      <td>247</td>\n",
       "      <td>Antoine Walker</td>\n",
       "      <td>0.0154</td>\n",
       "    </tr>\n",
       "    <tr>\n",
       "      <th>247</th>\n",
       "      <td>248</td>\n",
       "      <td>Larry Siegfried</td>\n",
       "      <td>0.0153</td>\n",
       "    </tr>\n",
       "    <tr>\n",
       "      <th>248</th>\n",
       "      <td>249</td>\n",
       "      <td>DeMarcus Cousins</td>\n",
       "      <td>0.0151</td>\n",
       "    </tr>\n",
       "    <tr>\n",
       "      <th>249</th>\n",
       "      <td>250</td>\n",
       "      <td>Scott Wedman</td>\n",
       "      <td>0.0150</td>\n",
       "    </tr>\n",
       "  </tbody>\n",
       "</table>\n",
       "<p>250 rows × 3 columns</p>\n",
       "</div>"
      ],
      "text/plain": [
       "     Rank                Player  HoF Prob\n",
       "0       1  Kareem Abdul-Jabbar*    1.0000\n",
       "1       2          LeBron James    1.0000\n",
       "2       3       Michael Jordan*    1.0000\n",
       "3       4         Bill Russell*    1.0000\n",
       "4       5          Kobe Bryant*    1.0000\n",
       "..    ...                   ...       ...\n",
       "245   246        DeAndre Jordan    0.0171\n",
       "246   247        Antoine Walker    0.0154\n",
       "247   248       Larry Siegfried    0.0153\n",
       "248   249      DeMarcus Cousins    0.0151\n",
       "249   250          Scott Wedman    0.0150\n",
       "\n",
       "[250 rows x 3 columns]"
      ]
     },
     "execution_count": 2,
     "metadata": {},
     "output_type": "execute_result"
    }
   ],
   "source": [
    "hof_table = pd.read_csv(\"basketball_reference_hof_table.csv\")\n",
    "hof_table"
   ]
  },
  {
   "cell_type": "markdown",
   "id": "b5a35f36",
   "metadata": {},
   "source": [
    "#### Filter HOF inductees (* means already inducted to HOF)"
   ]
  },
  {
   "cell_type": "code",
   "execution_count": 3,
   "id": "e17029b2",
   "metadata": {},
   "outputs": [
    {
     "data": {
      "text/html": [
       "<div>\n",
       "<style scoped>\n",
       "    .dataframe tbody tr th:only-of-type {\n",
       "        vertical-align: middle;\n",
       "    }\n",
       "\n",
       "    .dataframe tbody tr th {\n",
       "        vertical-align: top;\n",
       "    }\n",
       "\n",
       "    .dataframe thead th {\n",
       "        text-align: right;\n",
       "    }\n",
       "</style>\n",
       "<table border=\"1\" class=\"dataframe\">\n",
       "  <thead>\n",
       "    <tr style=\"text-align: right;\">\n",
       "      <th></th>\n",
       "      <th>Rank</th>\n",
       "      <th>Player</th>\n",
       "      <th>HoF Prob</th>\n",
       "    </tr>\n",
       "  </thead>\n",
       "  <tbody>\n",
       "    <tr>\n",
       "      <th>0</th>\n",
       "      <td>1</td>\n",
       "      <td>Kareem Abdul-Jabbar*</td>\n",
       "      <td>1.0000</td>\n",
       "    </tr>\n",
       "    <tr>\n",
       "      <th>2</th>\n",
       "      <td>3</td>\n",
       "      <td>Michael Jordan*</td>\n",
       "      <td>1.0000</td>\n",
       "    </tr>\n",
       "    <tr>\n",
       "      <th>3</th>\n",
       "      <td>4</td>\n",
       "      <td>Bill Russell*</td>\n",
       "      <td>1.0000</td>\n",
       "    </tr>\n",
       "    <tr>\n",
       "      <th>4</th>\n",
       "      <td>5</td>\n",
       "      <td>Kobe Bryant*</td>\n",
       "      <td>1.0000</td>\n",
       "    </tr>\n",
       "    <tr>\n",
       "      <th>5</th>\n",
       "      <td>6</td>\n",
       "      <td>Wilt Chamberlain*</td>\n",
       "      <td>1.0000</td>\n",
       "    </tr>\n",
       "    <tr>\n",
       "      <th>...</th>\n",
       "      <td>...</td>\n",
       "      <td>...</td>\n",
       "      <td>...</td>\n",
       "    </tr>\n",
       "    <tr>\n",
       "      <th>195</th>\n",
       "      <td>196</td>\n",
       "      <td>Wayne Embry*</td>\n",
       "      <td>0.0614</td>\n",
       "    </tr>\n",
       "    <tr>\n",
       "      <th>202</th>\n",
       "      <td>203</td>\n",
       "      <td>Gus Johnson*</td>\n",
       "      <td>0.0501</td>\n",
       "    </tr>\n",
       "    <tr>\n",
       "      <th>210</th>\n",
       "      <td>211</td>\n",
       "      <td>Connie Hawkins*</td>\n",
       "      <td>0.0451</td>\n",
       "    </tr>\n",
       "    <tr>\n",
       "      <th>224</th>\n",
       "      <td>225</td>\n",
       "      <td>Don Nelson*</td>\n",
       "      <td>0.0263</td>\n",
       "    </tr>\n",
       "    <tr>\n",
       "      <th>235</th>\n",
       "      <td>236</td>\n",
       "      <td>Bill Walton*</td>\n",
       "      <td>0.0204</td>\n",
       "    </tr>\n",
       "  </tbody>\n",
       "</table>\n",
       "<p>127 rows × 3 columns</p>\n",
       "</div>"
      ],
      "text/plain": [
       "     Rank                Player  HoF Prob\n",
       "0       1  Kareem Abdul-Jabbar*    1.0000\n",
       "2       3       Michael Jordan*    1.0000\n",
       "3       4         Bill Russell*    1.0000\n",
       "4       5          Kobe Bryant*    1.0000\n",
       "5       6     Wilt Chamberlain*    1.0000\n",
       "..    ...                   ...       ...\n",
       "195   196          Wayne Embry*    0.0614\n",
       "202   203          Gus Johnson*    0.0501\n",
       "210   211       Connie Hawkins*    0.0451\n",
       "224   225           Don Nelson*    0.0263\n",
       "235   236          Bill Walton*    0.0204\n",
       "\n",
       "[127 rows x 3 columns]"
      ]
     },
     "execution_count": 3,
     "metadata": {},
     "output_type": "execute_result"
    }
   ],
   "source": [
    "hof_players = hof_table[hof_table['Player'].str.contains(\"\\*\")]\n",
    "hof_players"
   ]
  },
  {
   "cell_type": "markdown",
   "id": "0c954881",
   "metadata": {},
   "source": [
    "#### Remove * from player names"
   ]
  },
  {
   "cell_type": "code",
   "execution_count": 4,
   "id": "f8c44351",
   "metadata": {},
   "outputs": [
    {
     "data": {
      "text/plain": [
       "0      Kareem Abdul-Jabbar\n",
       "2           Michael Jordan\n",
       "3             Bill Russell\n",
       "4              Kobe Bryant\n",
       "5         Wilt Chamberlain\n",
       "              ...         \n",
       "195            Wayne Embry\n",
       "202            Gus Johnson\n",
       "210         Connie Hawkins\n",
       "224             Don Nelson\n",
       "235            Bill Walton\n",
       "Name: Player, Length: 127, dtype: object"
      ]
     },
     "execution_count": 4,
     "metadata": {},
     "output_type": "execute_result"
    }
   ],
   "source": [
    "hof_players = hof_players['Player'].str[:-1]\n",
    "hof_players"
   ]
  },
  {
   "cell_type": "markdown",
   "id": "f8a1800d",
   "metadata": {},
   "source": [
    "#### Save cleaned list as CSV"
   ]
  },
  {
   "cell_type": "code",
   "execution_count": 5,
   "id": "4c404ed2",
   "metadata": {},
   "outputs": [],
   "source": [
    "hof_players.to_csv(\"hof_players.csv\", index = False)"
   ]
  },
  {
   "cell_type": "markdown",
   "id": "a1c5850c",
   "metadata": {},
   "source": [
    "#### Check list of HOF players"
   ]
  },
  {
   "cell_type": "code",
   "execution_count": 6,
   "id": "083f5269",
   "metadata": {},
   "outputs": [
    {
     "data": {
      "text/html": [
       "<div>\n",
       "<style scoped>\n",
       "    .dataframe tbody tr th:only-of-type {\n",
       "        vertical-align: middle;\n",
       "    }\n",
       "\n",
       "    .dataframe tbody tr th {\n",
       "        vertical-align: top;\n",
       "    }\n",
       "\n",
       "    .dataframe thead th {\n",
       "        text-align: right;\n",
       "    }\n",
       "</style>\n",
       "<table border=\"1\" class=\"dataframe\">\n",
       "  <thead>\n",
       "    <tr style=\"text-align: right;\">\n",
       "      <th></th>\n",
       "      <th>Player</th>\n",
       "    </tr>\n",
       "  </thead>\n",
       "  <tbody>\n",
       "    <tr>\n",
       "      <th>0</th>\n",
       "      <td>Kareem Abdul-Jabbar</td>\n",
       "    </tr>\n",
       "    <tr>\n",
       "      <th>1</th>\n",
       "      <td>Michael Jordan</td>\n",
       "    </tr>\n",
       "    <tr>\n",
       "      <th>2</th>\n",
       "      <td>Bill Russell</td>\n",
       "    </tr>\n",
       "    <tr>\n",
       "      <th>3</th>\n",
       "      <td>Kobe Bryant</td>\n",
       "    </tr>\n",
       "    <tr>\n",
       "      <th>4</th>\n",
       "      <td>Wilt Chamberlain</td>\n",
       "    </tr>\n",
       "    <tr>\n",
       "      <th>...</th>\n",
       "      <td>...</td>\n",
       "    </tr>\n",
       "    <tr>\n",
       "      <th>122</th>\n",
       "      <td>Wayne Embry</td>\n",
       "    </tr>\n",
       "    <tr>\n",
       "      <th>123</th>\n",
       "      <td>Gus Johnson</td>\n",
       "    </tr>\n",
       "    <tr>\n",
       "      <th>124</th>\n",
       "      <td>Connie Hawkins</td>\n",
       "    </tr>\n",
       "    <tr>\n",
       "      <th>125</th>\n",
       "      <td>Don Nelson</td>\n",
       "    </tr>\n",
       "    <tr>\n",
       "      <th>126</th>\n",
       "      <td>Bill Walton</td>\n",
       "    </tr>\n",
       "  </tbody>\n",
       "</table>\n",
       "<p>127 rows × 1 columns</p>\n",
       "</div>"
      ],
      "text/plain": [
       "                  Player\n",
       "0    Kareem Abdul-Jabbar\n",
       "1         Michael Jordan\n",
       "2           Bill Russell\n",
       "3            Kobe Bryant\n",
       "4       Wilt Chamberlain\n",
       "..                   ...\n",
       "122          Wayne Embry\n",
       "123          Gus Johnson\n",
       "124       Connie Hawkins\n",
       "125           Don Nelson\n",
       "126          Bill Walton\n",
       "\n",
       "[127 rows x 1 columns]"
      ]
     },
     "execution_count": 6,
     "metadata": {},
     "output_type": "execute_result"
    }
   ],
   "source": [
    "hof_players = pd.read_csv(\"hof_players.csv\")\n",
    "hof_players"
   ]
  }
 ],
 "metadata": {
  "kernelspec": {
   "display_name": "Python 3 (ipykernel)",
   "language": "python",
   "name": "python3"
  },
  "language_info": {
   "codemirror_mode": {
    "name": "ipython",
    "version": 3
   },
   "file_extension": ".py",
   "mimetype": "text/x-python",
   "name": "python",
   "nbconvert_exporter": "python",
   "pygments_lexer": "ipython3",
   "version": "3.9.15"
  }
 },
 "nbformat": 4,
 "nbformat_minor": 5
}
